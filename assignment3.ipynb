{
 "metadata": {
  "language_info": {
   "codemirror_mode": {
    "name": "ipython",
    "version": 3
   },
   "file_extension": ".py",
   "mimetype": "text/x-python",
   "name": "python",
   "nbconvert_exporter": "python",
   "pygments_lexer": "ipython3",
   "version": "3.8.3-final"
  },
  "orig_nbformat": 2,
  "kernelspec": {
   "name": "python_defaultSpec_1598669099317",
   "display_name": "Python 3.8.3 64-bit ('base': conda)"
  }
 },
 "nbformat": 4,
 "nbformat_minor": 2,
 "cells": [
  {
   "cell_type": "markdown",
   "metadata": {},
   "source": [
    "### In this assignment you will write a Python program that will use urllib to read the HTML from the data files below, extract the href= vaues from the anchor tags, scan for a tag that is in a particular position relative to the first name in the list, follow that link and repeat the process a number of times and report the last name you find.\n",
    "\n",
    "#### We provide two files for this assignment. One is a sample file where we give you the name for your testing and the other is the actual data you need to process for the assignment\n",
    "\n",
    "####    Sample problem: Start at http://py4e-data.dr-chuck.net/known_by_Fikret.html\n",
    "####    Find the link at position 3 (the first name is 1). Follow that link. Repeat this process 4 times. The answer is the last name that you retrieve.\n",
    "####    Sequence of names: Fikret Montgomery Mhairade Butchi Anayah\n",
    "####    Last name in sequence: Anayah\n",
    "####    Actual problem: Start at: http://py4e-data.dr-chuck.net/known_by_Airidas.html\n",
    "####    Find the link at position 18 (the first name is 1). Follow that link. Repeat this process 7 times. The answer is the last name that you retrieve.\n",
    "####    Hint: The first character of the name of the last page that you will load is: C"
   ]
  },
  {
   "cell_type": "code",
   "execution_count": null,
   "metadata": {},
   "outputs": [],
   "source": [
    "from bs4 import BeautifulSoup\n",
    "import requests"
   ]
  },
  {
   "cell_type": "code",
   "execution_count": 58,
   "metadata": {},
   "outputs": [],
   "source": [
    "def link(html_file,i):\n",
    "    response = requests.get(html_file)\n",
    "    soup = BeautifulSoup(response.text)\n",
    "    tags = soup('a')\n",
    "\n",
    "    links = []\n",
    "    for link in tags:\n",
    "        links.append(link.get('href',None))\n",
    "\n",
    "    # print(len(links))\n",
    "\n",
    "    return links[i]"
   ]
  },
  {
   "cell_type": "code",
   "execution_count": 89,
   "metadata": {},
   "outputs": [],
   "source": [
    "def link_3_rec(html_file, count):\n",
    "    response = requests.get(html_file)\n",
    "    soup = BeautifulSoup(response.text)\n",
    "    tags = soup('a')\n",
    "\n",
    "    links = []\n",
    "    for link in tags:\n",
    "        links.append(link.get('href',None))\n",
    "    \n",
    "    print(links[2])\n",
    "    print(len(links))\n",
    "\n",
    "    if count == 1:\n",
    "        links[2]\n",
    "    else:\n",
    "        \n",
    "        return link_3_rec(links[2], count-1)"
   ]
  },
  {
   "cell_type": "code",
   "execution_count": 90,
   "metadata": {
    "tags": []
   },
   "outputs": [
    {
     "output_type": "stream",
     "name": "stdout",
     "text": "http://py4e-data.dr-chuck.net/known_by_Montgomery.html\n100\nhttp://py4e-data.dr-chuck.net/known_by_Mhairade.html\n100\nhttp://py4e-data.dr-chuck.net/known_by_Butchi.html\n100\nhttp://py4e-data.dr-chuck.net/known_by_Anayah.html\n100\n"
    }
   ],
   "source": [
    "link_3_rec('http://py4e-data.dr-chuck.net/known_by_Fikret.html', 4)"
   ]
  },
  {
   "cell_type": "code",
   "execution_count": 79,
   "metadata": {},
   "outputs": [],
   "source": [
    "\n",
    "def link_list(html_file, i, n):\n",
    "    links = []\n",
    "    new_link = link(html_file,i)\n",
    "    links.append(new_link)    \n",
    "    if n==1:\n",
    "        return links\n",
    "    else:\n",
    "        print(links)\n",
    "        return link_list(new_link,i,n-1)\n",
    "    "
   ]
  },
  {
   "cell_type": "code",
   "execution_count": 80,
   "metadata": {
    "tags": []
   },
   "outputs": [
    {
     "output_type": "stream",
     "name": "stdout",
     "text": "['http://py4e-data.dr-chuck.net/known_by_Brenae.html']\n['http://py4e-data.dr-chuck.net/known_by_Inara.html']\n['http://py4e-data.dr-chuck.net/known_by_Ayleen.html']\n['http://py4e-data.dr-chuck.net/known_by_Cadon.html']\n['http://py4e-data.dr-chuck.net/known_by_Greig.html']\n['http://py4e-data.dr-chuck.net/known_by_Arwa.html']\n"
    },
    {
     "output_type": "execute_result",
     "data": {
      "text/plain": "['http://py4e-data.dr-chuck.net/known_by_Cinar.html']"
     },
     "metadata": {},
     "execution_count": 80
    }
   ],
   "source": [
    "link_list('http://py4e-data.dr-chuck.net/known_by_Airidas.html',17,7)"
   ]
  }
 ]
}