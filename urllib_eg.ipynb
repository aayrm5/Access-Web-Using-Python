{
 "metadata": {
  "language_info": {
   "codemirror_mode": {
    "name": "ipython",
    "version": 3
   },
   "file_extension": ".py",
   "mimetype": "text/x-python",
   "name": "python",
   "nbconvert_exporter": "python",
   "pygments_lexer": "ipython3",
   "version": "3.8.3-final"
  },
  "orig_nbformat": 2,
  "kernelspec": {
   "name": "python_defaultSpec_1598425821786",
   "display_name": "Python 3.8.3 64-bit ('base': conda)"
  }
 },
 "nbformat": 4,
 "nbformat_minor": 2,
 "cells": [
  {
   "cell_type": "code",
   "execution_count": 1,
   "metadata": {},
   "outputs": [],
   "source": [
    "import ssl\n",
    "import re\n",
    "import urllib.request, urllib.parse, urllib.error"
   ]
  },
  {
   "cell_type": "code",
   "execution_count": 2,
   "metadata": {},
   "outputs": [],
   "source": [
    "ctx = ssl.create_default_context()\n",
    "ctx.check_hostname = False\n",
    "ctx.verify_mode = ssl.CERT_NONE"
   ]
  },
  {
   "cell_type": "markdown",
   "metadata": {},
   "source": [
    "### Looking for list of anchor tags (\"<a href=''....\") in a website."
   ]
  },
  {
   "cell_type": "code",
   "execution_count": 4,
   "metadata": {
    "tags": []
   },
   "outputs": [
    {
     "output_type": "stream",
     "name": "stdout",
     "text": "https://d3njjcbhbojbot.cloudfront.net/web/images/favicons/apple-touch-icon-57x57.png\nhttps://d3njjcbhbojbot.cloudfront.net/web/images/favicons/apple-touch-icon-60x60.png\nhttps://d3njjcbhbojbot.cloudfront.net/web/images/favicons/apple-touch-icon-72x72.png\nhttps://d3njjcbhbojbot.cloudfront.net/web/images/favicons/apple-touch-icon-76x76.png\nhttps://d3njjcbhbojbot.cloudfront.net/web/images/favicons/apple-touch-icon-114x114.png\nhttps://d3njjcbhbojbot.cloudfront.net/web/images/favicons/apple-touch-icon-120x120.png\nhttps://d3njjcbhbojbot.cloudfront.net/web/images/favicons/apple-touch-icon-144x144.png\nhttps://d3njjcbhbojbot.cloudfront.net/web/images/favicons/apple-touch-icon-152x152.png\nhttps://d3njjcbhbojbot.cloudfront.net/web/images/favicons/apple-touch-icon-180x180.png\nhttps://d3njjcbhbojbot.cloudfront.net/web/images/favicons/icon-194x194.png\nhttps://d3njjcbhbojbot.cloudfront.net/web/images/favicons/android-chrome-192x192.png\nhttps://d3njjcbhbojbot.cloudfront.net/web/images/favicons/icon-blue-96x96.png\nhttps://d3njjcbhbojbot.cloudfront.net/web/images/favicons/icon-blue-16x16.png\nhttps://d3njjcbhbojbot.cloudfront.net/web/images/favicons/icon-blue-32x32.png\nhttps://d3njjcbhbojbot.cloudfront.net/webapps/r2-builds/front-page/allStyles.15a67e15c7ba3bf4c152.css\nhttps://d3njjcbhbojbot.cloudfront.net/webapps/r2-builds/front-page/allStyles.15a67e15c7ba3bf4c152.css\nhttps://www.coursera.org/\nhttps://de.coursera.org/\nhttps://es.coursera.org/\nhttps://fr.coursera.org/\nhttps://ja.coursera.org/\nhttps://ko.coursera.org/\nhttps://pt.coursera.org/\nhttps://ru.coursera.org/\nhttps://zh.coursera.org/\nhttps://zh-tw.coursera.org/\nhttps://www.coursera.org/\nhttps://www.coursera.org/\nhttps://www.coursera.org/coronavirus?utm_campaign=website&amp;utm_content=c4cv-top-banner-dotorg-3&amp;utm_medium=coursera&amp;utm_source=home-page\nhttps://www.coursera.org/coronavirus?utm_campaign=website&amp;utm_content=c4cv-top-banner-dotorg-3&amp;utm_medium=coursera&amp;utm_source=home-page\nhttps://www.coursera.org/government/workforce-recovery?utm_campaign=website&amp;utm_content=c4cv-top-banner-dotorg-3&amp;utm_medium=coursera&amp;utm_source=home-page\nhttps://www.coursera.org/government/workforce-recovery?utm_campaign=website&amp;utm_content=c4cv-top-banner-dotorg-3&amp;utm_medium=coursera&amp;utm_source=home-page\nhttps://www.coursera.org/for-university-and-college-students?utm_source=home-page&amp;utm_medium=coursera&amp;utm_campaign=freecourseraforstudents&amp;utm_content=c4cv-top-banner-dotorg-3\nhttps://www.coursera.org/for-university-and-college-students?utm_source=home-page&amp;utm_medium=coursera&amp;utm_campaign=freecourseraforstudents&amp;utm_content=c4cv-top-banner-dotorg-3\nhttps://www.coursera.org/mastertrack/machine-learning-analytics-chicago\nhttps://www.coursera.org/mastertrack/machine-learning-analytics-chicago\nhttps://www.coursera.org/mastertrack/spatial-data-analysis-visualization-ucdavis\nhttps://www.coursera.org/mastertrack/spatial-data-analysis-visualization-ucdavis\nhttps://www.coursera.org/mastertrack/construction-engineering-management-umich\nhttps://www.coursera.org/mastertrack/construction-engineering-management-umich\nhttps://www.coursera.org/mastertrack/instructional-design-illinois\nhttps://www.coursera.org/mastertrack/instructional-design-illinois\nhttps://www.coursera.org/degrees/msc-machine-learning-imperial\nhttps://www.coursera.org/degrees/msc-machine-learning-imperial\nhttps://www.coursera.org/degrees/business\nhttps://www.coursera.org/degrees/business\nhttps://www.coursera.org/degrees/msee-boulder\nhttps://www.coursera.org/degrees/msee-boulder\nhttps://www.coursera.org/degrees/public-health\nhttps://www.coursera.org/degrees/public-health\nhttps://www.coursera.org/degrees/mcit-penn\nhttps://www.coursera.org/degrees/mcit-penn\nhttps://about.coursera.org/\nhttps://about.coursera.org/\nhttps://about.coursera.org/leadership\nhttps://about.coursera.org/leadership\nhttps://www.coursera.community\nhttps://www.coursera.community\nhttps://www.coursera.org/about/partners\nhttps://www.coursera.org/about/partners\nhttps://building.coursera.org/developer-program/\nhttps://building.coursera.org/developer-program/\nhttps://www.coursera.community/#beta-tester\nhttps://www.coursera.community/#beta-tester\nhttps://www.coursera.community/#gtc\nhttps://www.coursera.community/#gtc\nhttps://blog.coursera.org\nhttps://blog.coursera.org\nhttps://medium.com/coursera-engineering\nhttps://medium.com/coursera-engineering\nhttps://learner.coursera.help/hc\nhttps://learner.coursera.help/hc\nhttps://learner.coursera.help/hc/articles/208280056-Accommodations-for-learners-with-disabilities\nhttps://learner.coursera.help/hc/articles/208280056-Accommodations-for-learners-with-disabilities\nhttps://about.coursera.org/affiliates\nhttps://about.coursera.org/affiliates\nhttps://itunes.apple.com/app/apple-store/id736535961?pt=2334150&amp;ct=Coursera%20Web%20Promo%20Banner&amp;mt=8\nhttps://itunes.apple.com/app/apple-store/id736535961?pt=2334150&amp;ct=Coursera%20Web%20Promo%20Banner&amp;mt=8\nhttp://play.google.com/store/apps/details?id=org.coursera.android\nhttp://play.google.com/store/apps/details?id=org.coursera.android\nhttps://www.facebook.com/Coursera\nhttps://www.facebook.com/Coursera\nhttps://www.linkedin.com/company/coursera\nhttps://www.linkedin.com/company/coursera\nhttps://twitter.com/coursera\nhttps://twitter.com/coursera\nhttps://www.youtube.com/user/coursera\nhttps://www.youtube.com/user/coursera\nhttps://www.instagram.com/coursera/\nhttps://www.instagram.com/coursera/\n"
    }
   ],
   "source": [
    "url = input('Enter - ')\n",
    "html = urllib.request.urlopen(url,context=ctx).read()\n",
    "links = re.findall(b'href=\"(http[s]?://.+?)\"',html) #b' -> refers to byte arrays.\n",
    "#The links have data in utf-8 or ASCII.\n",
    " ## In order to covert the data in bytes to UNICODE .decode() func has been used.\n",
    "for link in links:\n",
    "    print(link.decode()) #UNICODE is standard and readable with mult char set.\n",
    "\n",
    "# When you run this code, you'd be prompted to enter a url, enter any url that you wanna check, I checked coursera.org!."
   ]
  },
  {
   "cell_type": "markdown",
   "metadata": {},
   "source": [
    "### Checking the text present in the webpage"
   ]
  },
  {
   "cell_type": "code",
   "execution_count": 5,
   "metadata": {
    "tags": []
   },
   "outputs": [
    {
     "output_type": "stream",
     "name": "stdout",
     "text": "<http.client.HTTPResponse object at 0x0000024F9A690C70>\nWhy should you learn to write programs?\n\nWriting programs (or programming) is a very creative\nand rewarding activity.  You can write programs for\nmany reasons, ranging from making your living to solving\na difficult data analysis problem to having fun to helping\nsomeone else solve a problem.  This book assumes that\neveryone needs to know how to program, and that once\nyou know how to program you will figure out what you want\nto do with your newfound skills.\n"
    }
   ],
   "source": [
    "fhand = urllib.request.urlopen('http://data.pr4e.org/intro-short.txt')\n",
    "print(fhand)\n",
    "for line in fhand:\n",
    "    print(line.decode().strip())"
   ]
  },
  {
   "cell_type": "markdown",
   "metadata": {},
   "source": [
    "### Checking the count of words using urllib!!"
   ]
  },
  {
   "cell_type": "code",
   "execution_count": 6,
   "metadata": {
    "tags": []
   },
   "outputs": [
    {
     "output_type": "stream",
     "name": "stdout",
     "text": "{'Why': 1, 'should': 1, 'you': 4, 'learn': 1, 'to': 8, 'write': 2, 'programs?': 1, 'Writing': 1, 'programs': 2, '(or': 1, 'programming)': 1, 'is': 1, 'a': 3, 'very': 1, 'creative': 1, 'and': 2, 'rewarding': 1, 'activity.': 1, 'You': 1, 'can': 1, 'for': 1, 'many': 1, 'reasons,': 1, 'ranging': 1, 'from': 1, 'making': 1, 'your': 2, 'living': 1, 'solving': 1, 'difficult': 1, 'data': 1, 'analysis': 1, 'problem': 1, 'having': 1, 'fun': 1, 'helping': 1, 'someone': 1, 'else': 1, 'solve': 1, 'problem.': 1, 'This': 1, 'book': 1, 'assumes': 1, 'that': 2, 'everyone': 1, 'needs': 1, 'know': 2, 'how': 2, 'program,': 1, 'once': 1, 'program': 1, 'will': 1, 'figure': 1, 'out': 1, 'what': 1, 'want': 1, 'do': 1, 'with': 1, 'newfound': 1, 'skills.': 1}\n"
    }
   ],
   "source": [
    "fhand1 = urllib.request.urlopen('http://data.pr4e.org/intro-short.txt')\n",
    "\n",
    "counts=dict()\n",
    "for line in fhand1:\n",
    "    words = line.decode().split()\n",
    "    for word in words:\n",
    "        counts[word] = counts.get(word,0)+1\n",
    "print(counts)"
   ]
  },
  {
   "cell_type": "markdown",
   "metadata": {},
   "source": [
    "### Inspecting the code of a Webpage "
   ]
  },
  {
   "cell_type": "code",
   "execution_count": 7,
   "metadata": {
    "tags": []
   },
   "outputs": [
    {
     "output_type": "stream",
     "name": "stdout",
     "text": "<http.client.HTTPResponse object at 0x0000024F9A6A7B20>\n<h1>The First Page</h1>\n<p>\nIf you like, you can switch to the\n<a href=\"http://data.pr4e.org/page2.htm\">\nSecond Page</a>.\n</p>\n"
    }
   ],
   "source": [
    "fhand = urllib.request.urlopen('http://data.pr4e.org/page1.htm')\n",
    "print(fhand)\n",
    "for line in fhand:\n",
    "    print(line.decode().strip())"
   ]
  },
  {
   "cell_type": "code",
   "execution_count": null,
   "metadata": {},
   "outputs": [],
   "source": []
  }
 ]
}