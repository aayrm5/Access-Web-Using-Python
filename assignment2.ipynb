{
 "metadata": {
  "language_info": {
   "codemirror_mode": {
    "name": "ipython",
    "version": 3
   },
   "file_extension": ".py",
   "mimetype": "text/x-python",
   "name": "python",
   "nbconvert_exporter": "python",
   "pygments_lexer": "ipython3",
   "version": "3.8.3-final"
  },
  "orig_nbformat": 2,
  "kernelspec": {
   "name": "python_defaultSpec_1598669349117",
   "display_name": "Python 3.8.3 64-bit ('base': conda)"
  }
 },
 "nbformat": 4,
 "nbformat_minor": 2,
 "cells": [
  {
   "cell_type": "markdown",
   "metadata": {},
   "source": [
    "### Scraping Numbers from HTML using BeautifulSoup \n",
    "\n",
    "#### In this notebook you will write a Python program which will use urllib to read the HTML from the data files below, and parse the data, extracting numbers and compute the sum of the numbers in the file.\n",
    "\n",
    "#### Provided two files for this notebook. One is a sample file where we give you the sum for your testing and the other is the actual data you need to process for the assignment.\n",
    "\n",
    "####    Sample data: http://py4e-data.dr-chuck.net/comments_42.html (Sum=2553)\n",
    "####    Actual data: http://py4e-data.dr-chuck.net/comments_921055.html (Sum ends with 67)"
   ]
  },
  {
   "cell_type": "code",
   "execution_count": 1,
   "metadata": {},
   "outputs": [],
   "source": [
    "import ssl\n",
    "from bs4 import BeautifulSoup\n",
    "import urllib.request, urllib.parse, urllib.error"
   ]
  },
  {
   "cell_type": "code",
   "execution_count": 2,
   "metadata": {},
   "outputs": [],
   "source": [
    "ctx = ssl.create_default_context()\n",
    "ctx.check_hostname = False\n",
    "ctx.verify_mode = ssl.CERT_NONE"
   ]
  },
  {
   "cell_type": "code",
   "execution_count": 13,
   "metadata": {},
   "outputs": [],
   "source": [
    "url = input('Enter - ')\n",
    "#Sample - http://py4e-data.dr-chuck.net/comments_42.html\n"
   ]
  },
  {
   "cell_type": "code",
   "execution_count": 14,
   "metadata": {},
   "outputs": [],
   "source": [
    "html = urllib.request.urlopen(url,context=ctx).read()"
   ]
  },
  {
   "cell_type": "code",
   "execution_count": 16,
   "metadata": {},
   "outputs": [],
   "source": [
    "# html"
   ]
  },
  {
   "cell_type": "code",
   "execution_count": 17,
   "metadata": {},
   "outputs": [],
   "source": [
    "soup = BeautifulSoup(html, 'html.parser')"
   ]
  },
  {
   "cell_type": "code",
   "execution_count": 25,
   "metadata": {},
   "outputs": [],
   "source": [
    "# soup"
   ]
  },
  {
   "cell_type": "code",
   "execution_count": 26,
   "metadata": {},
   "outputs": [],
   "source": [
    "tags = soup('span')\n",
    "# tags"
   ]
  },
  {
   "cell_type": "code",
   "execution_count": 20,
   "metadata": {},
   "outputs": [
    {
     "output_type": "execute_result",
     "data": {
      "text/plain": "'97'"
     },
     "metadata": {},
     "execution_count": 20
    }
   ],
   "source": [
    "tags[0].contents[0]"
   ]
  },
  {
   "cell_type": "code",
   "execution_count": 21,
   "metadata": {},
   "outputs": [
    {
     "output_type": "execute_result",
     "data": {
      "text/plain": "{'class': ['comments']}"
     },
     "metadata": {},
     "execution_count": 21
    }
   ],
   "source": [
    "tags[0].attrs"
   ]
  },
  {
   "cell_type": "markdown",
   "metadata": {},
   "source": [
    "### Writing for actual assignment file.."
   ]
  },
  {
   "cell_type": "code",
   "execution_count": 33,
   "metadata": {},
   "outputs": [],
   "source": [
    "import ssl\n",
    "from bs4 import BeautifulSoup\n",
    "import urllib.request, urllib.parse, urllib.error"
   ]
  },
  {
   "cell_type": "code",
   "execution_count": 34,
   "metadata": {},
   "outputs": [],
   "source": [
    "ctx = ssl.create_default_context()\n",
    "ctx.check_hostname = False\n",
    "ctx.verify_mode = ssl.CERT_NONE"
   ]
  },
  {
   "cell_type": "code",
   "execution_count": 35,
   "metadata": {},
   "outputs": [],
   "source": [
    "url = input('Enter -')\n",
    "#Actual - http://py4e-data.dr-chuck.net/comments_921055.html"
   ]
  },
  {
   "cell_type": "code",
   "execution_count": 36,
   "metadata": {},
   "outputs": [],
   "source": [
    "html = urllib.request.urlopen(url, context=ctx).read()"
   ]
  },
  {
   "cell_type": "code",
   "execution_count": 38,
   "metadata": {},
   "outputs": [],
   "source": [
    "soup = BeautifulSoup(html,'html.parser')"
   ]
  },
  {
   "cell_type": "code",
   "execution_count": 41,
   "metadata": {},
   "outputs": [
    {
     "output_type": "execute_result",
     "data": {
      "text/plain": "[<span class=\"comments\">98</span>,\n <span class=\"comments\">98</span>,\n <span class=\"comments\">96</span>,\n <span class=\"comments\">94</span>,\n <span class=\"comments\">94</span>,\n <span class=\"comments\">92</span>,\n <span class=\"comments\">91</span>,\n <span class=\"comments\">90</span>,\n <span class=\"comments\">89</span>,\n <span class=\"comments\">85</span>,\n <span class=\"comments\">84</span>,\n <span class=\"comments\">81</span>,\n <span class=\"comments\">80</span>,\n <span class=\"comments\">77</span>,\n <span class=\"comments\">76</span>,\n <span class=\"comments\">74</span>,\n <span class=\"comments\">72</span>,\n <span class=\"comments\">69</span>,\n <span class=\"comments\">66</span>,\n <span class=\"comments\">65</span>,\n <span class=\"comments\">60</span>,\n <span class=\"comments\">60</span>,\n <span class=\"comments\">59</span>,\n <span class=\"comments\">59</span>,\n <span class=\"comments\">59</span>,\n <span class=\"comments\">56</span>,\n <span class=\"comments\">52</span>,\n <span class=\"comments\">50</span>,\n <span class=\"comments\">46</span>,\n <span class=\"comments\">45</span>,\n <span class=\"comments\">43</span>,\n <span class=\"comments\">39</span>,\n <span class=\"comments\">35</span>,\n <span class=\"comments\">35</span>,\n <span class=\"comments\">35</span>,\n <span class=\"comments\">30</span>,\n <span class=\"comments\">28</span>,\n <span class=\"comments\">26</span>,\n <span class=\"comments\">25</span>,\n <span class=\"comments\">24</span>,\n <span class=\"comments\">24</span>,\n <span class=\"comments\">24</span>,\n <span class=\"comments\">19</span>,\n <span class=\"comments\">18</span>,\n <span class=\"comments\">14</span>,\n <span class=\"comments\">13</span>,\n <span class=\"comments\">7</span>,\n <span class=\"comments\">5</span>,\n <span class=\"comments\">5</span>,\n <span class=\"comments\">1</span>]"
     },
     "metadata": {},
     "execution_count": 41
    }
   ],
   "source": [
    "tags = soup('span')\n",
    "tags"
   ]
  },
  {
   "cell_type": "code",
   "execution_count": 42,
   "metadata": {
    "tags": []
   },
   "outputs": [
    {
     "output_type": "stream",
     "name": "stdout",
     "text": "['98', '98', '96', '94', '94', '92', '91', '90', '89', '85', '84', '81', '80', '77', '76', '74', '72', '69', '66', '65', '60', '60', '59', '59', '59', '56', '52', '50', '46', '45', '43', '39', '35', '35', '35', '30', '28', '26', '25', '24', '24', '24', '19', '18', '14', '13', '7', '5', '5', '1']\n"
    }
   ],
   "source": [
    "num = []\n",
    "\n",
    "for row in tags:\n",
    "    n = row.contents[0]\n",
    "    num.append(n)\n",
    "\n",
    "print(num)"
   ]
  },
  {
   "cell_type": "code",
   "execution_count": 43,
   "metadata": {
    "tags": []
   },
   "outputs": [
    {
     "output_type": "stream",
     "name": "stdout",
     "text": "[98, 98, 96, 94, 94, 92, 91, 90, 89, 85, 84, 81, 80, 77, 76, 74, 72, 69, 66, 65, 60, 60, 59, 59, 59, 56, 52, 50, 46, 45, 43, 39, 35, 35, 35, 30, 28, 26, 25, 24, 24, 24, 19, 18, 14, 13, 7, 5, 5, 1]\n"
    }
   ],
   "source": [
    "n_int = []\n",
    "\n",
    "for i in num:\n",
    "    i = int(i)\n",
    "    n_int.append(i)\n",
    "\n",
    "print(n_int)"
   ]
  },
  {
   "cell_type": "code",
   "execution_count": 44,
   "metadata": {},
   "outputs": [
    {
     "output_type": "execute_result",
     "data": {
      "text/plain": "2667"
     },
     "metadata": {},
     "execution_count": 44
    }
   ],
   "source": [
    "sum(n_int)"
   ]
  },
  {
   "cell_type": "code",
   "execution_count": null,
   "metadata": {},
   "outputs": [],
   "source": []
  }
 ]
}