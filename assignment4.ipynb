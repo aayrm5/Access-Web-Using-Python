{
 "metadata": {
  "language_info": {
   "codemirror_mode": {
    "name": "ipython",
    "version": 3
   },
   "file_extension": ".py",
   "mimetype": "text/x-python",
   "name": "python",
   "nbconvert_exporter": "python",
   "pygments_lexer": "ipython3",
   "version": "3.8.3-final"
  },
  "orig_nbformat": 2,
  "kernelspec": {
   "name": "python_defaultSpec_1598851107480",
   "display_name": "Python 3.8.3 64-bit ('base': conda)"
  }
 },
 "nbformat": 4,
 "nbformat_minor": 2,
 "cells": [
  {
   "cell_type": "markdown",
   "metadata": {},
   "source": [
    "###  Extracting Data from XML\n",
    "\n",
    "#### In this assignment you will write a Python program somewhat similar to http://www.py4e.com/code3/geoxml.py. The program will prompt for a URL, read the XML data from that URL using urllib and then parse and extract the comment counts from the XML data, compute the sum of the numbers in the file.\n",
    "\n",
    "#### We provide two files for this assignment. One is a sample file where we give you the sum for your testing and the other is the actual data you need to process for the assignment.\n",
    "\n",
    "####    Sample data: http://py4e-data.dr-chuck.net/comments_42.xml (Sum=2553)\n",
    "####    Actual data: http://py4e-data.dr-chuck.net/comments_921057.xml (Sum ends with 5)\n",
    "\n",
    "#### You are to look through all the <comment> tags and find the <count> values sum the numbers."
   ]
  },
  {
   "cell_type": "code",
   "execution_count": 1,
   "metadata": {},
   "outputs": [],
   "source": [
    "import ssl\n",
    "import urllib.request, urllib.parse, urllib.error\n",
    "import xml.etree.ElementTree as ET\n"
   ]
  },
  {
   "cell_type": "code",
   "execution_count": 4,
   "metadata": {},
   "outputs": [],
   "source": [
    "#Ignore SSL Certificate errors\n",
    "ctx = ssl.create_default_context()\n",
    "ctx.check_hostname = False\n",
    "ctx.verify_mode = ssl.CERT_NONE"
   ]
  },
  {
   "cell_type": "code",
   "execution_count": 51,
   "metadata": {},
   "outputs": [],
   "source": [
    "url = input('Enter the link:')\n",
    "xml_doc = urllib.request.urlopen(url,context=ctx).read()\n"
   ]
  },
  {
   "cell_type": "code",
   "execution_count": 21,
   "metadata": {},
   "outputs": [],
   "source": [
    "# xml_doc \n",
    "#-> retrived XML document. "
   ]
  },
  {
   "cell_type": "code",
   "execution_count": 52,
   "metadata": {},
   "outputs": [],
   "source": [
    "tree = ET.fromstring(xml_doc)"
   ]
  },
  {
   "cell_type": "code",
   "execution_count": 53,
   "metadata": {},
   "outputs": [
    {
     "output_type": "execute_result",
     "data": {
      "text/plain": "<Element 'commentinfo' at 0x00000218221F74A0>"
     },
     "metadata": {},
     "execution_count": 53
    }
   ],
   "source": [
    "tree"
   ]
  },
  {
   "cell_type": "code",
   "execution_count": 54,
   "metadata": {},
   "outputs": [],
   "source": [
    "lst_count = tree.findall('comments/comment')"
   ]
  },
  {
   "cell_type": "code",
   "execution_count": 47,
   "metadata": {},
   "outputs": [],
   "source": [
    "# lst_count"
   ]
  },
  {
   "cell_type": "code",
   "execution_count": 48,
   "metadata": {
    "tags": []
   },
   "outputs": [],
   "source": [
    "# print(lst_count[0].find('count').text)\n",
    "#test to check if this retrieves the number."
   ]
  },
  {
   "cell_type": "code",
   "execution_count": 55,
   "metadata": {
    "tags": []
   },
   "outputs": [
    {
     "output_type": "stream",
     "name": "stdout",
     "text": "[100, 99, 97, 95, 94, 90, 88, 87, 83, 82, 80, 73, 66, 65, 64, 64, 63, 62, 60, 59, 58, 58, 56, 56, 55, 54, 52, 49, 49, 48, 47, 47, 46, 45, 44, 44, 41, 36, 32, 32, 32, 32, 28, 26, 22, 21, 13, 5, 4, 2]\n"
    }
   ],
   "source": [
    "counts_num = []\n",
    "for item in lst_count:\n",
    "    counts_num.append(int(item.find('count').text))  \n",
    "\n",
    "print(counts_num)"
   ]
  },
  {
   "cell_type": "code",
   "execution_count": 56,
   "metadata": {},
   "outputs": [
    {
     "output_type": "execute_result",
     "data": {
      "text/plain": "2705"
     },
     "metadata": {},
     "execution_count": 56
    }
   ],
   "source": [
    "sum(counts_num)"
   ]
  },
  {
   "cell_type": "code",
   "execution_count": null,
   "metadata": {},
   "outputs": [],
   "source": []
  }
 ]
}